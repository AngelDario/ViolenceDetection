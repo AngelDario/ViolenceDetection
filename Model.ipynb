{
  "nbformat": 4,
  "nbformat_minor": 0,
  "metadata": {
    "colab": {
      "provenance": [],
      "gpuType": "T4"
    },
    "kernelspec": {
      "name": "python3",
      "display_name": "Python 3"
    },
    "language_info": {
      "name": "python"
    },
    "accelerator": "GPU"
  },
  "cells": [
    {
      "cell_type": "code",
      "source": [
        "from google.colab import drive\n",
        "drive.mount('/content/drive')\n",
        "!cp -r /content/drive/MyDrive/PFCII/DATASET .\n",
        "!cp -r /content/drive/MyDrive/PFCII/DATASET ./DATASET2"
      ],
      "metadata": {
        "colab": {
          "base_uri": "https://localhost:8080/"
        },
        "id": "USTc5NFHhJ8q",
        "outputId": "457bcbd0-6e0a-48dc-a3b6-be0cee1a88d4"
      },
      "execution_count": null,
      "outputs": [
        {
          "output_type": "stream",
          "name": "stdout",
          "text": [
            "Drive already mounted at /content/drive; to attempt to forcibly remount, call drive.mount(\"/content/drive\", force_remount=True).\n"
          ]
        }
      ]
    },
    {
      "cell_type": "code",
      "source": [
        "import random\n",
        "import numpy as np\n",
        "import numpy as np\n",
        "import cv2\n",
        "import gc\n",
        "import tensorflow as tf\n",
        "from tensorflow.keras import backend as K\n",
        "import glob\n",
        "import matplotlib.pyplot as plt\n",
        "import os\n",
        "import json\n",
        "\n",
        "path_openpose = '/content/DATASET'\n",
        "path_MSM = '/content/DATASET2'\n",
        "\n",
        "ORIGINAL_FRAMES_PER_VIDEO = 150\n",
        "FRAMES_PER_VIDEO = 50 + 1\n",
        "VIDEO_WIDTH, VIDEO_HEIGHT = 100, 100\n",
        "N_CHANNELS = 3"
      ],
      "metadata": {
        "id": "gJh9pkI9hnvW"
      },
      "execution_count": null,
      "outputs": []
    },
    {
      "cell_type": "code",
      "source": [
        "!export TF_FORCE_GPU_ALLOW_GROWTH=True\n",
        "gpus = tf.config.list_physical_devices('GPU')\n",
        "if gpus:\n",
        "  for gpu in gpus:\n",
        "    tf.config.experimental.set_memory_growth(gpu, True)\n",
        "  tf.config.set_visible_devices(gpus[1:], 'GPU')"
      ],
      "metadata": {
        "id": "C63ojkKGifkg"
      },
      "execution_count": null,
      "outputs": []
    },
    {
      "cell_type": "code",
      "source": [
        "def load_videos(video_IDs: list, video_frames: int = FRAMES_PER_VIDEO, video_width: int = VIDEO_WIDTH, video_height: int = VIDEO_HEIGHT,\n",
        "                video_channels: int = N_CHANNELS, dtype = np.float32, normalize: bool = False) -> tuple:\n",
        "  videos = np.empty((len(video_IDs), video_frames, video_height, video_width, video_channels), dtype=dtype)\n",
        "\n",
        "  frames_idx = set(np.round(np.linspace(0, ORIGINAL_FRAMES_PER_VIDEO - 1, video_frames)).astype(int))\n",
        "\n",
        "  for i, video_ID in enumerate(video_IDs):\n",
        "    cap = cv2.VideoCapture(video_ID)\n",
        "    frames = []\n",
        "    index = 0\n",
        "    while True:\n",
        "      ret, frame = cap.read()\n",
        "      if not ret:\n",
        "        break\n",
        "      if index in frames_idx:\n",
        "        frame = cv2.resize(frame, (video_width, video_height)).astype(dtype)\n",
        "        if normalize:\n",
        "          frame /= 255.0\n",
        "        frames.append(frame)\n",
        "      index += 1\n",
        "    cap.release()\n",
        "\n",
        "    videos[i,] = np.array(frames)\n",
        "\n",
        "  return videos\n"
      ],
      "metadata": {
        "id": "E7VPv9m9lC2V"
      },
      "execution_count": null,
      "outputs": []
    },
    {
      "cell_type": "code",
      "source": [
        "class DataGenerator(tf.keras.utils.Sequence):\n",
        "  def __init__(self, video_IDs: list, video_labels: dict, batch_size: int, paths: list = [''], video_width: int = VIDEO_WIDTH, video_height: int = VIDEO_HEIGHT,\n",
        "                video_frames: int = FRAMES_PER_VIDEO, video_channels: int = N_CHANNELS, dtype = np.float32, normalize: bool = False, shuffle: bool = True):\n",
        "    self.video_IDs = video_IDs\n",
        "    self.video_labels = video_labels\n",
        "    self.batch_size = batch_size\n",
        "    self.paths = paths\n",
        "    self.video_width = video_width\n",
        "    self.video_height = video_height\n",
        "    self.video_frames = video_frames\n",
        "    self.video_channels = video_channels\n",
        "    self.dtype = dtype\n",
        "    self.normalize = normalize\n",
        "    self.shuffle = shuffle\n",
        "\n",
        "  def __len__(self):\n",
        "    return len(self.video_IDs) // self.batch_size\n",
        "\n",
        "  def __getitem__(self, idx):\n",
        "    batch_IDs = self.video_IDs[idx * self.batch_size:(idx + 1) * self.batch_size]\n",
        "\n",
        "    input_videos = []\n",
        "\n",
        "    for index, path in enumerate(self.paths):\n",
        "      batch_IDs_full_path = [path+ID for ID in batch_IDs]\n",
        "\n",
        "      videos = load_videos(batch_IDs_full_path, self.video_frames, self.video_width, self.video_height, self.video_channels, self.dtype, self.normalize)\n",
        "\n",
        "      input_videos.append(videos)\n",
        "\n",
        "      labels = np.array([self.video_labels[ID] for ID in batch_IDs])\n",
        "\n",
        "    return input_videos, labels\n",
        "\n"
      ],
      "metadata": {
        "id": "oUt3RHIUouio"
      },
      "execution_count": null,
      "outputs": []
    },
    {
      "cell_type": "code",
      "source": [
        "def get_final_path(path):\n",
        "\n",
        "    index = path.rfind('/train/')\n",
        "    if index == -1:\n",
        "        index = path.rfind('/val/')\n",
        "    return path[index:]"
      ],
      "metadata": {
        "id": "u1rNwr8vjJXW"
      },
      "execution_count": null,
      "outputs": []
    },
    {
      "cell_type": "code",
      "source": [
        "train_video_paths = [get_final_path(path) for path in glob.glob(path_openpose + '/train/*/*')]\n",
        "test_video_paths = [get_final_path(path)for path in glob.glob(path_MSM + '/val/*/*')]\n",
        "\n",
        "train_video_labels = {video: 0 if 'NonFight' in video else 1 for video in train_video_paths}\n",
        "test_video_labels = {video: 0 if 'NonFight' in video else 1 for video in test_video_paths}\n",
        "\n",
        "train_generator = DataGenerator(train_video_paths, train_video_labels, batch_size=2, paths=[path_openpose, path_MSM])\n",
        "test_generator = DataGenerator(test_video_paths, test_video_labels, batch_size=2, paths=[path_openpose, path_MSM])\n"
      ],
      "metadata": {
        "id": "pd1K92sxkiBu"
      },
      "execution_count": null,
      "outputs": []
    },
    {
      "cell_type": "code",
      "source": [
        "inputs_openpose = tf.keras.layers.Input(shape=(FRAMES_PER_VIDEO, VIDEO_HEIGHT, VIDEO_WIDTH, N_CHANNELS))\n",
        "inputs_MSM = tf.keras.layers.Input(shape=(FRAMES_PER_VIDEO, VIDEO_HEIGHT, VIDEO_WIDTH, N_CHANNELS))\n",
        "\n",
        "convolutional_layer1 = tf.keras.layers.Conv2D(filters=9, kernel_size=(3,3), activation='relu')\n",
        "convolutional_layer2 = tf.keras.layers.Conv2D(filters=9, kernel_size=(3,3), activation='relu')\n",
        "\n",
        "inputs_openpose_soft = tf.keras.layers.TimeDistributed(convolutional_layer1)(inputs_openpose)\n",
        "inputs_MSM_soft = tf.keras.layers.TimeDistributed(convolutional_layer2)(inputs_MSM)\n",
        "\n",
        "inputs_openpose_norm = tf.keras.layers.BatchNormalization(scale=False, center=False)(inputs_openpose_soft)\n",
        "inputs_MSM_norm = tf.keras.layers.BatchNormalization(scale=False, center=False)(inputs_MSM_soft)\n",
        "\n",
        "sigmoid_MSM = tf.keras.activations.sigmoid(inputs_MSM_norm)\n",
        "\n",
        "inputs_weighted = tf.keras.layers.Multiply()([inputs_openpose_norm, sigmoid_MSM])\n",
        "\n",
        "x = tf.keras.layers.ConvLSTM2D(filters=32, kernel_size=(3, 3), return_sequences=False, data_format='channels_last', activation='tanh')(inputs_weighted)\n",
        "\n",
        "x = tf.keras.layers.DepthwiseConv2D(kernel_size=(3, 3), depth_multiplier=2, activation='relu', data_format='channels_last')(x)\n",
        "\n",
        "x = tf.keras.layers.GlobalAveragePooling2D(data_format='channels_last')(x)\n",
        "\n",
        "x = tf.keras.layers.Dense(units=128, activation='relu')(x)\n",
        "x = tf.keras.layers.Dense(units=16, activation='relu')(x)\n",
        "outputs = tf.keras.layers.Dense(units=1, activation='sigmoid')(x)\n",
        "\n",
        "model = tf.keras.Model([inputs_MSM, inputs_openpose], outputs)\n",
        "model.compile(optimizer='adam', loss='binary_crossentropy', metrics=['accuracy'])\n",
        "\n",
        "model.summary()"
      ],
      "metadata": {
        "colab": {
          "base_uri": "https://localhost:8080/"
        },
        "id": "Xgm-NEEar8gi",
        "outputId": "4d97e754-6987-40af-8b2d-0fb2a3a4d239"
      },
      "execution_count": null,
      "outputs": [
        {
          "output_type": "stream",
          "name": "stdout",
          "text": [
            "Model: \"model\"\n",
            "__________________________________________________________________________________________________\n",
            " Layer (type)                Output Shape                 Param #   Connected to                  \n",
            "==================================================================================================\n",
            " input_2 (InputLayer)        [(None, 51, 100, 100, 3)]    0         []                            \n",
            "                                                                                                  \n",
            " input_1 (InputLayer)        [(None, 51, 100, 100, 3)]    0         []                            \n",
            "                                                                                                  \n",
            " time_distributed_1 (TimeDi  (None, 51, 98, 98, 9)        252       ['input_2[0][0]']             \n",
            " stributed)                                                                                       \n",
            "                                                                                                  \n",
            " time_distributed (TimeDist  (None, 51, 98, 98, 9)        252       ['input_1[0][0]']             \n",
            " ributed)                                                                                         \n",
            "                                                                                                  \n",
            " batch_normalization_1 (Bat  (None, 51, 98, 98, 9)        18        ['time_distributed_1[0][0]']  \n",
            " chNormalization)                                                                                 \n",
            "                                                                                                  \n",
            " batch_normalization (Batch  (None, 51, 98, 98, 9)        18        ['time_distributed[0][0]']    \n",
            " Normalization)                                                                                   \n",
            "                                                                                                  \n",
            " tf.math.sigmoid (TFOpLambd  (None, 51, 98, 98, 9)        0         ['batch_normalization_1[0][0]'\n",
            " a)                                                                 ]                             \n",
            "                                                                                                  \n",
            " multiply (Multiply)         (None, 51, 98, 98, 9)        0         ['batch_normalization[0][0]', \n",
            "                                                                     'tf.math.sigmoid[0][0]']     \n",
            "                                                                                                  \n",
            " conv_lstm2d (ConvLSTM2D)    (None, 96, 96, 32)           47360     ['multiply[0][0]']            \n",
            "                                                                                                  \n",
            " depthwise_conv2d (Depthwis  (None, 94, 94, 64)           640       ['conv_lstm2d[0][0]']         \n",
            " eConv2D)                                                                                         \n",
            "                                                                                                  \n",
            " global_average_pooling2d (  (None, 64)                   0         ['depthwise_conv2d[0][0]']    \n",
            " GlobalAveragePooling2D)                                                                          \n",
            "                                                                                                  \n",
            " dense (Dense)               (None, 128)                  8320      ['global_average_pooling2d[0][\n",
            "                                                                    0]']                          \n",
            "                                                                                                  \n",
            " dense_1 (Dense)             (None, 16)                   2064      ['dense[0][0]']               \n",
            "                                                                                                  \n",
            " dense_2 (Dense)             (None, 1)                    17        ['dense_1[0][0]']             \n",
            "                                                                                                  \n",
            "==================================================================================================\n",
            "Total params: 58941 (230.24 KB)\n",
            "Trainable params: 58905 (230.10 KB)\n",
            "Non-trainable params: 36 (144.00 Byte)\n",
            "__________________________________________________________________________________________________\n"
          ]
        }
      ]
    },
    {
      "cell_type": "code",
      "source": [
        "history = model.fit(train_generator, epochs=20, validation_data=test_generator, verbose=2)\n"
      ],
      "metadata": {
        "colab": {
          "base_uri": "https://localhost:8080/"
        },
        "id": "Vfr0HV-an1wC",
        "outputId": "f1c0d90d-fb04-44a7-b72d-df743ca97d66"
      },
      "execution_count": null,
      "outputs": [
        {
          "output_type": "stream",
          "name": "stdout",
          "text": [
            "Epoch 1/20\n",
            "6/6 - 74s - loss: 0.6976 - accuracy: 0.1667 - val_loss: 0.6912 - val_accuracy: 0.7500 - 74s/epoch - 12s/step\n",
            "Epoch 2/20\n",
            "6/6 - 65s - loss: 0.6928 - accuracy: 0.5000 - val_loss: 0.6894 - val_accuracy: 1.0000 - 65s/epoch - 11s/step\n",
            "Epoch 3/20\n",
            "6/6 - 66s - loss: 0.6889 - accuracy: 0.7500 - val_loss: 0.6851 - val_accuracy: 0.7500 - 66s/epoch - 11s/step\n",
            "Epoch 4/20\n",
            "6/6 - 61s - loss: 0.6908 - accuracy: 0.6667 - val_loss: 0.6803 - val_accuracy: 0.5000 - 61s/epoch - 10s/step\n",
            "Epoch 5/20\n",
            "6/6 - 65s - loss: 0.6770 - accuracy: 0.9167 - val_loss: 0.6819 - val_accuracy: 0.7500 - 65s/epoch - 11s/step\n",
            "Epoch 6/20\n",
            "6/6 - 60s - loss: 0.6681 - accuracy: 0.7500 - val_loss: 0.6859 - val_accuracy: 0.7500 - 60s/epoch - 10s/step\n",
            "Epoch 7/20\n",
            "6/6 - 61s - loss: 0.6397 - accuracy: 0.9167 - val_loss: 0.6835 - val_accuracy: 0.7500 - 61s/epoch - 10s/step\n",
            "Epoch 8/20\n",
            "6/6 - 60s - loss: 0.5964 - accuracy: 1.0000 - val_loss: 0.6793 - val_accuracy: 0.7500 - 60s/epoch - 10s/step\n",
            "Epoch 9/20\n",
            "6/6 - 66s - loss: 0.5828 - accuracy: 0.6667 - val_loss: 0.7176 - val_accuracy: 0.5000 - 66s/epoch - 11s/step\n",
            "Epoch 10/20\n",
            "6/6 - 60s - loss: 0.4225 - accuracy: 1.0000 - val_loss: 0.7345 - val_accuracy: 0.5000 - 60s/epoch - 10s/step\n",
            "Epoch 11/20\n",
            "6/6 - 60s - loss: 0.3656 - accuracy: 1.0000 - val_loss: 0.8851 - val_accuracy: 0.0000e+00 - 60s/epoch - 10s/step\n",
            "Epoch 12/20\n",
            "6/6 - 61s - loss: 0.2393 - accuracy: 1.0000 - val_loss: 1.1927 - val_accuracy: 0.0000e+00 - 61s/epoch - 10s/step\n",
            "Epoch 13/20\n",
            "6/6 - 62s - loss: 0.1428 - accuracy: 1.0000 - val_loss: 1.3794 - val_accuracy: 0.0000e+00 - 62s/epoch - 10s/step\n",
            "Epoch 14/20\n",
            "6/6 - 64s - loss: 0.0738 - accuracy: 1.0000 - val_loss: 1.4066 - val_accuracy: 0.2500 - 64s/epoch - 11s/step\n",
            "Epoch 15/20\n",
            "6/6 - 63s - loss: 0.0481 - accuracy: 1.0000 - val_loss: 1.7140 - val_accuracy: 0.2500 - 63s/epoch - 11s/step\n",
            "Epoch 16/20\n",
            "6/6 - 65s - loss: 0.0236 - accuracy: 1.0000 - val_loss: 2.0301 - val_accuracy: 0.2500 - 65s/epoch - 11s/step\n",
            "Epoch 17/20\n",
            "6/6 - 72s - loss: 0.0165 - accuracy: 1.0000 - val_loss: 2.1858 - val_accuracy: 0.2500 - 72s/epoch - 12s/step\n",
            "Epoch 18/20\n",
            "6/6 - 60s - loss: 0.0096 - accuracy: 1.0000 - val_loss: 2.2993 - val_accuracy: 0.5000 - 60s/epoch - 10s/step\n",
            "Epoch 19/20\n",
            "6/6 - 64s - loss: 0.0066 - accuracy: 1.0000 - val_loss: 2.4247 - val_accuracy: 0.5000 - 64s/epoch - 11s/step\n",
            "Epoch 20/20\n",
            "6/6 - 64s - loss: 0.0047 - accuracy: 1.0000 - val_loss: 2.5198 - val_accuracy: 0.5000 - 64s/epoch - 11s/step\n"
          ]
        }
      ]
    },
    {
      "cell_type": "code",
      "source": [
        "plt.plot(history.history['loss'])\n",
        "plt.plot(history.history['val_loss'])\n",
        "plt.title('model loss')\n",
        "plt.ylabel('loss')\n",
        "plt.xlabel('epoch')\n",
        "plt.legend(['train', 'test'], loc='upper left')\n",
        "plt.show()"
      ],
      "metadata": {
        "colab": {
          "base_uri": "https://localhost:8080/",
          "height": 472
        },
        "id": "wnp-I5r9sOZk",
        "outputId": "1bec42fa-1e9a-479e-fe5b-7b5a8af823d1"
      },
      "execution_count": null,
      "outputs": [
        {
          "output_type": "display_data",
          "data": {
            "text/plain": [
              "<Figure size 640x480 with 1 Axes>"
            ],
            "image/png": "[encoded data removed]"
          },
          "metadata": {}
        }
      ]
    }
  ]
}